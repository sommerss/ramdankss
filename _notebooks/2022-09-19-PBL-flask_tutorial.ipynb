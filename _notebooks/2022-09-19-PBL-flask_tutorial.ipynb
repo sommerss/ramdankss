{
 "cells": [
  {
   "attachments": {},
   "cell_type": "markdown",
   "metadata": {},
   "source": [
    "# Python/Flask Tutorial\n",
    "> Quick launch into Flask, Variables, Functions, List, Dictionariesy, and APIs.\n",
    "\n",
    "- layout: default\n",
    "- badges: false\n",
    "- permalink: /techtalk/flask\n",
    "- categories: [1.A, 3.B, C4.0]\n",
    "- type: pbl\n",
    "- week: 5"
   ]
  },
  {
   "attachments": {},
   "cell_type": "markdown",
   "metadata": {},
   "source": [
    "### Hacks\n",
    "> Provide a Python Backend summary that is a companion to the JavaScript Tutorial.  To get you rolling, the below is very minimal and would need the data example extracted to its own cell, with more complicated cells extract from things like SQLite and Pandas.\n",
    "- Run Python Backend in Notebook or server\n",
    "- Have an API for\n",
    "    -  Static Data for Users example\n",
    "    -  SQLite API that should Filtering, Sorting\n",
    "    -  Pandas, Numpy, or 3rd Party API that you have filtered"
   ]
  },
  {
   "cell_type": "code",
   "execution_count": null,
   "metadata": {
    "vscode": {
     "languageId": "plaintext"
    }
   },
   "outputs": [],
   "source": [
    "from flask import Flask, jsonify\n",
    "from flask_cors import CORS\n",
    "\n",
    "app = Flask(__name__)\n",
    "CORS(app)\n",
    "\n",
    "# Define a static list of data\n",
    "data = [{'name': 'Joe', 'age': 17}, {'name': 'Jane', 'age': 25}, {'name': 'Bob', 'age': 40}]\n",
    "\n",
    "@app.route('/data')\n",
    "def get_data():\n",
    "    return jsonify(data)\n",
    "\n",
    "if __name__ == '__main__':\n",
    "    app.run()"
   ]
  }
 ],
 "metadata": {
  "language_info": {
   "name": "python"
  },
  "orig_nbformat": 4
 },
 "nbformat": 4,
 "nbformat_minor": 2
}
